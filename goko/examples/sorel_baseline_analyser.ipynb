{
 "cells": [
  {
   "cell_type": "code",
   "execution_count": null,
   "metadata": {},
   "outputs": [],
   "source": [
    "import os\n",
    "import numpy as np\n",
    "import json\n",
    "import matplotlib.pyplot as plt\n",
    "\n",
    "def open_violators(max_tree, leaf_cutoff, sample_rate):\n",
    "    violators = {\n",
    "        \"kl_div\": [],\n",
    "        \"mll\": [],\n",
    "        \"mean_kl_div\": [],\n",
    "        \"mean_mll\": [],\n",
    "        \"std_kl_div\": [],\n",
    "        \"std_mll\": [],\n",
    "        \"max_kl_div\": [],\n",
    "        \"min_mll\": [],\n",
    "    }\n",
    "    for i in range(max_tree):\n",
    "        baseline_dir = \"/localdata/sorel/covertrees/test_set_baselines\"\n",
    "        baseline_file = f\"tree_{leaf_cutoff}_{i}_baseline_{sample_rate}_loo_violators.json\"\n",
    "        with open(os.path.join(baseline_dir, baseline_file)) as f:\n",
    "            loo_violators = json.load(f)\n",
    "        for i, (_, observation, baseline) in enumerate(loo_violators):\n",
    "            violators[\"kl_div\"].append(observation[\"kl_div\"])\n",
    "            violators[\"mll\"].append(observation[\"mll\"])\n",
    "            violators[\"mean_kl_div\"].append(baseline[\"mean_kl_div\"])\n",
    "            violators[\"mean_mll\"].append(baseline[\"mean_mll\"])\n",
    "            violators[\"std_kl_div\"].append(baseline[\"std_kl_div\"])\n",
    "            violators[\"std_mll\"].append(baseline[\"std_mll\"])\n",
    "            violators[\"max_kl_div\"].append(baseline[\"max_kl_div\"])\n",
    "            violators[\"min_mll\"].append(baseline[\"min_mll\"])\n",
    "            \n",
    "    return {k:np.array(v) for k,v in violators.items()}"
   ]
  },
  {
   "cell_type": "code",
   "execution_count": null,
   "metadata": {},
   "outputs": [],
   "source": [
    "violators = {\n",
    "    1000: open_violators(48, 500, 1000),\n",
    "    10000: open_violators(48, 500, 10000),\n",
    "    100000: open_violators(48, 500, 100000),\n",
    "}"
   ]
  },
  {
   "cell_type": "code",
   "execution_count": null,
   "metadata": {},
   "outputs": [],
   "source": [
    "def eval_baseline_hyperparameters(all_violators, sequence_len, kl_str, kl_cor, mll_str, mll_cor, safety_margin=1.5):\n",
    "    seq_violators = all_violators[sequence_len]\n",
    "    x_kl_div = seq_violators[\"std_kl_div\"]\n",
    "    y_kl_div = safety_margin*seq_violators[\"kl_div\"] - seq_violators[\"max_kl_div\"]\n",
    "    total_samples = len(y_kl_div)\n",
    "    kl_selection = [y_kl_div - kl_cor*x_kl_div - kl_str > 0]\n",
    "    kl_div_fp_count = np.array(kl_selection).sum()\n",
    "\n",
    "    x_mll = seq_violators[\"std_mll\"]\n",
    "    y_mll = (seq_violators[\"min_mll\"] - safety_margin*seq_violators[\"mll\"])\n",
    "    mll_selection = [y_mll - mll_cor*x_mll - mll_str > 0]\n",
    "    mll_fp_count = np.array(mll_selection).sum()\n",
    "\n",
    "    fig, axs = plt.subplots(2, 2)\n",
    "    axs[1,0].scatter(x_kl_div[kl_selection], y_kl_div[kl_selection], label = f\"False Positives {100*kl_div_fp_count/total_samples}%\", color=\"red\")\n",
    "    axs[1,0].plot(x_kl_div[kl_selection], kl_cor*x_kl_div[kl_selection] + kl_str, label = f\"KL Div Criterion {kl_cor} x + {kl_str}\", color=\"orange\")\n",
    "    axs[1,0].set_title(\"KL Div False Positives\")\n",
    "    axs[1,0].set_ylabel(\"Node's KL Div - maximum KL Div from baseline\")\n",
    "    axs[1,0].set_xlabel(\"Std of Node's KL Div\")\n",
    "    axs[1,0].legend()\n",
    "    axs[0,0].scatter(x_kl_div, y_kl_div)\n",
    "    axs[0,0].plot(x_kl_div, kl_cor*x_kl_div + kl_str, label = f\"KL Div Criterion {kl_cor} x + {kl_str}\", color=\"orange\")\n",
    "    axs[0,0].set_title(\"All Potential KL Div Violators\")\n",
    "    axs[0,0].set_ylabel(\"Node's KL Div - maximum KL Div from baseline\")\n",
    "    axs[0,0].set_xlabel(\"Std of Node's KL Div\")\n",
    "    axs[0,0].legend()\n",
    "\n",
    "    axs[1,1].scatter(x_mll[mll_selection], y_mll[mll_selection], label = f\"False Positives {100*mll_fp_count/total_samples}%\", color=\"red\")\n",
    "    axs[1,1].plot(x_mll[mll_selection], mll_cor*x_mll[mll_selection] + mll_str, label = f\"MLL Criterion {mll_cor} x + {mll_str}\", color=\"orange\")\n",
    "    axs[1,1].set_title(\"MLL False Positives\")\n",
    "    axs[1,1].set_ylabel(\"Minimum MLL from Baseline - Node's MLL\")\n",
    "    axs[1,1].set_xlabel(\"Std of Node's MLL\")\n",
    "    axs[1,1].legend()\n",
    "    axs[0,1].scatter(x_mll, y_mll)\n",
    "    axs[0,1].plot(x_mll, mll_cor*x_mll + mll_str, label = f\"MLL Criterion {mll_cor} x + {mll_str}\", color=\"orange\")\n",
    "    axs[0,1].set_title(\"All Potential MLL Violators\")\n",
    "    axs[0,1].set_ylabel(\"Minimum MLL from Baseline - Node's MLL\")\n",
    "    axs[0,1].set_xlabel(\"Std of Node's MLL\")\n",
    "    axs[0,1].legend()\n",
    "    fig.set_size_inches(10, 8)\n",
    "    fig.tight_layout()\n",
    "    fig.savefig(f\"{sequence_len}_violators.png\", bbox_inches=\"tight\", dpi= 1000)\n",
    "    plt.show()"
   ]
  },
  {
   "cell_type": "code",
   "execution_count": null,
   "metadata": {},
   "outputs": [],
   "source": [
    "eval_baseline_hyperparameters(violators, 1000, kl_str=12,kl_cor=10,mll_str=80, mll_cor=1.3, safety_margin=2)\n"
   ]
  },
  {
   "cell_type": "code",
   "execution_count": null,
   "metadata": {},
   "outputs": [],
   "source": [
    "eval_baseline_hyperparameters(violators, 10000, kl_str=6.5,kl_cor=20,mll_str=100, mll_cor=1.4, safety_margin=2)"
   ]
  },
  {
   "cell_type": "code",
   "execution_count": null,
   "metadata": {},
   "outputs": [],
   "source": [
    "eval_baseline_hyperparameters(violators, 100000, kl_str=80,kl_cor=15,mll_str=100, mll_cor=1.9, safety_margin=2)"
   ]
  },
  {
   "cell_type": "code",
   "execution_count": null,
   "metadata": {},
   "outputs": [],
   "source": []
  }
 ],
 "metadata": {
  "interpreter": {
   "hash": "117d04ed8c83fab976f8d76651447fcb732a17f54ec11e1c7d4863a9f33c7159"
  },
  "kernelspec": {
   "display_name": "Python 3.9.6 64-bit ('goko': pyenv)",
   "name": "python3"
  },
  "language_info": {
   "codemirror_mode": {
    "name": "ipython",
    "version": 3
   },
   "file_extension": ".py",
   "mimetype": "text/x-python",
   "name": "python",
   "nbconvert_exporter": "python",
   "pygments_lexer": "ipython3",
   "version": "3.9.6"
  },
  "orig_nbformat": 4
 },
 "nbformat": 4,
 "nbformat_minor": 2
}
